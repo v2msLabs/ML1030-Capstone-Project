{
 "cells": [
  {
   "cell_type": "markdown",
   "metadata": {},
   "source": [
    "# Lending Environment Simulation Model & Lender Evaluation Tool"
   ]
  },
  {
   "cell_type": "markdown",
   "metadata": {},
   "source": [
    "# Data Exploration"
   ]
  },
  {
   "cell_type": "code",
   "execution_count": 1,
   "metadata": {},
   "outputs": [
    {
     "data": {
      "text/plain": [
       "2"
      ]
     },
     "execution_count": 1,
     "metadata": {},
     "output_type": "execute_result"
    }
   ],
   "source": [
    "import glob\n",
    "import os\n",
    "import numpy as np\n",
    "import pandas as pd\n",
    "\n",
    "\n",
    "pd.set_option('display.max_rows', 50)\n",
    "pd.set_option('display.max_columns', 500)\n",
    "pd.set_option('display.width', 1000)\n",
    "\n",
    "input_path = \"../data/original/*.csv\"\n",
    "paths = glob.glob(input_path)\n",
    "len(paths)"
   ]
  },
  {
   "cell_type": "code",
   "execution_count": 6,
   "metadata": {},
   "outputs": [
    {
     "data": {
      "text/plain": [
       "((29383, 38),\n",
       " Int64Index([0, 1, 2, 3, 4, 5, 6, 7, 8, 9, 10, 11, 12, 13, 14, 15, 16, 17, 18, 19, 20, 21, 22, 23, 24, 25, 26, 27, 28, 29, 30, 31, 32, 33, 34, 35, 36, 37], dtype='int64'))"
      ]
     },
     "execution_count": 6,
     "metadata": {},
     "output_type": "execute_result"
    }
   ],
   "source": [
    "# read all *.csv files from the input path\n",
    "# drop the headers and replace them with the sequential numbers \n",
    "df = pd.concat([pd.read_csv(f,names=range(0,38),header=0) for f in paths])\n",
    "df.shape,df.columns\n",
    "    "
   ]
  },
  {
   "cell_type": "code",
   "execution_count": 7,
   "metadata": {
    "scrolled": false
   },
   "outputs": [
    {
     "data": {
      "text/html": [
       "<div>\n",
       "<style scoped>\n",
       "    .dataframe tbody tr th:only-of-type {\n",
       "        vertical-align: middle;\n",
       "    }\n",
       "\n",
       "    .dataframe tbody tr th {\n",
       "        vertical-align: top;\n",
       "    }\n",
       "\n",
       "    .dataframe thead th {\n",
       "        text-align: right;\n",
       "    }\n",
       "</style>\n",
       "<table border=\"1\" class=\"dataframe\">\n",
       "  <thead>\n",
       "    <tr style=\"text-align: right;\">\n",
       "      <th></th>\n",
       "      <th>0</th>\n",
       "      <th>1</th>\n",
       "      <th>2</th>\n",
       "      <th>3</th>\n",
       "      <th>4</th>\n",
       "      <th>5</th>\n",
       "      <th>6</th>\n",
       "      <th>7</th>\n",
       "      <th>8</th>\n",
       "      <th>9</th>\n",
       "      <th>10</th>\n",
       "      <th>11</th>\n",
       "      <th>12</th>\n",
       "      <th>13</th>\n",
       "      <th>14</th>\n",
       "      <th>15</th>\n",
       "      <th>16</th>\n",
       "      <th>17</th>\n",
       "      <th>18</th>\n",
       "      <th>19</th>\n",
       "      <th>20</th>\n",
       "      <th>21</th>\n",
       "      <th>22</th>\n",
       "      <th>23</th>\n",
       "      <th>24</th>\n",
       "      <th>25</th>\n",
       "      <th>26</th>\n",
       "      <th>27</th>\n",
       "      <th>28</th>\n",
       "      <th>29</th>\n",
       "      <th>30</th>\n",
       "      <th>31</th>\n",
       "      <th>32</th>\n",
       "      <th>33</th>\n",
       "      <th>34</th>\n",
       "      <th>35</th>\n",
       "      <th>36</th>\n",
       "      <th>37</th>\n",
       "    </tr>\n",
       "  </thead>\n",
       "  <tbody>\n",
       "    <tr>\n",
       "      <th>count</th>\n",
       "      <td>29383</td>\n",
       "      <td>29383</td>\n",
       "      <td>27212</td>\n",
       "      <td>27212</td>\n",
       "      <td>27212</td>\n",
       "      <td>27212</td>\n",
       "      <td>27212</td>\n",
       "      <td>27212</td>\n",
       "      <td>27212</td>\n",
       "      <td>28391</td>\n",
       "      <td>28391</td>\n",
       "      <td>28391</td>\n",
       "      <td>28391</td>\n",
       "      <td>28391</td>\n",
       "      <td>3298</td>\n",
       "      <td>3298</td>\n",
       "      <td>29383</td>\n",
       "      <td>18709</td>\n",
       "      <td>29383</td>\n",
       "      <td>27906</td>\n",
       "      <td>29314</td>\n",
       "      <td>28349</td>\n",
       "      <td>29383</td>\n",
       "      <td>29383</td>\n",
       "      <td>29383</td>\n",
       "      <td>29383</td>\n",
       "      <td>24656</td>\n",
       "      <td>23091</td>\n",
       "      <td>23091</td>\n",
       "      <td>23089</td>\n",
       "      <td>18748</td>\n",
       "      <td>18748</td>\n",
       "      <td>18748</td>\n",
       "      <td>8675</td>\n",
       "      <td>16131</td>\n",
       "      <td>14389</td>\n",
       "      <td>2259</td>\n",
       "      <td>3349</td>\n",
       "    </tr>\n",
       "    <tr>\n",
       "      <th>unique</th>\n",
       "      <td>26008</td>\n",
       "      <td>24800</td>\n",
       "      <td>3</td>\n",
       "      <td>3</td>\n",
       "      <td>3</td>\n",
       "      <td>3</td>\n",
       "      <td>3</td>\n",
       "      <td>3</td>\n",
       "      <td>3</td>\n",
       "      <td>4</td>\n",
       "      <td>10</td>\n",
       "      <td>16</td>\n",
       "      <td>41</td>\n",
       "      <td>88</td>\n",
       "      <td>5</td>\n",
       "      <td>6</td>\n",
       "      <td>7</td>\n",
       "      <td>4648</td>\n",
       "      <td>22</td>\n",
       "      <td>1055</td>\n",
       "      <td>213</td>\n",
       "      <td>17</td>\n",
       "      <td>15</td>\n",
       "      <td>18</td>\n",
       "      <td>18</td>\n",
       "      <td>15</td>\n",
       "      <td>17</td>\n",
       "      <td>7</td>\n",
       "      <td>7</td>\n",
       "      <td>33</td>\n",
       "      <td>7</td>\n",
       "      <td>7</td>\n",
       "      <td>7</td>\n",
       "      <td>161</td>\n",
       "      <td>8</td>\n",
       "      <td>6</td>\n",
       "      <td>8</td>\n",
       "      <td>562</td>\n",
       "    </tr>\n",
       "    <tr>\n",
       "      <th>top</th>\n",
       "      <td>6-24-2017 9:01:52</td>\n",
       "      <td>T19S38b3</td>\n",
       "      <td>Same / Pareil</td>\n",
       "      <td>Maybe / Peut-être</td>\n",
       "      <td>Same / Pareil</td>\n",
       "      <td>Maybe / Peut-être</td>\n",
       "      <td>Stay the same / La même</td>\n",
       "      <td>Stay the same / La même</td>\n",
       "      <td>Stay the same / La même</td>\n",
       "      <td>Male / Homme</td>\n",
       "      <td>Married / Marié</td>\n",
       "      <td>30-34</td>\n",
       "      <td>Bachelor’s degree / Licence</td>\n",
       "      <td>Salaried employee / Salarié</td>\n",
       "      <td>I am not a student / Je ne suis pas un étudiant</td>\n",
       "      <td>Black / Noir</td>\n",
       "      <td>Cameroon</td>\n",
       "      <td>Spintex</td>\n",
       "      <td>Between 2-3 times</td>\n",
       "      <td>Entre 10 001 et 59 000</td>\n",
       "      <td>Friends</td>\n",
       "      <td>At least 1 month but less than 3 months</td>\n",
       "      <td>Never</td>\n",
       "      <td>Never</td>\n",
       "      <td>Most of the time</td>\n",
       "      <td>At least 7-8 out of 10 times</td>\n",
       "      <td>Personal or family expenses (Health, education)</td>\n",
       "      <td>No</td>\n",
       "      <td>No</td>\n",
       "      <td>Bank</td>\n",
       "      <td>3</td>\n",
       "      <td>3</td>\n",
       "      <td>4</td>\n",
       "      <td>5 - Definitely agree</td>\n",
       "      <td>Yes / Oui</td>\n",
       "      <td>No</td>\n",
       "      <td>10% - 20%</td>\n",
       "      <td>100000</td>\n",
       "    </tr>\n",
       "    <tr>\n",
       "      <th>freq</th>\n",
       "      <td>4</td>\n",
       "      <td>12</td>\n",
       "      <td>13195</td>\n",
       "      <td>16001</td>\n",
       "      <td>14793</td>\n",
       "      <td>15745</td>\n",
       "      <td>14096</td>\n",
       "      <td>14603</td>\n",
       "      <td>14323</td>\n",
       "      <td>17551</td>\n",
       "      <td>12654</td>\n",
       "      <td>9308</td>\n",
       "      <td>7889</td>\n",
       "      <td>10138</td>\n",
       "      <td>1509</td>\n",
       "      <td>2550</td>\n",
       "      <td>6218</td>\n",
       "      <td>331</td>\n",
       "      <td>5606</td>\n",
       "      <td>3685</td>\n",
       "      <td>7750</td>\n",
       "      <td>5163</td>\n",
       "      <td>5226</td>\n",
       "      <td>5229</td>\n",
       "      <td>4299</td>\n",
       "      <td>4575</td>\n",
       "      <td>5943</td>\n",
       "      <td>8947</td>\n",
       "      <td>10974</td>\n",
       "      <td>5302</td>\n",
       "      <td>5235</td>\n",
       "      <td>5942</td>\n",
       "      <td>4576</td>\n",
       "      <td>1744</td>\n",
       "      <td>4344</td>\n",
       "      <td>6630</td>\n",
       "      <td>543</td>\n",
       "      <td>149</td>\n",
       "    </tr>\n",
       "  </tbody>\n",
       "</table>\n",
       "</div>"
      ],
      "text/plain": [
       "                       0         1              2                  3              4                  5                        6                        7                        8             9                10     11                           12                           13                                               14            15        16        17                 18                      19       20                                       21     22     23                24                            25                                               26     27     28     29     30     31     32                    33         34     35         36      37\n",
       "count               29383     29383          27212              27212          27212              27212                    27212                    27212                    27212         28391            28391  28391                        28391                        28391                                             3298          3298     29383     18709              29383                   27906    29314                                    28349  29383  29383             29383                         29383                                            24656  23091  23091  23089  18748  18748  18748                  8675      16131  14389       2259    3349\n",
       "unique              26008     24800              3                  3              3                  3                        3                        3                        3             4               10     16                           41                           88                                                5             6         7      4648                 22                    1055      213                                       17     15     18                18                            15                                               17      7      7     33      7      7      7                   161          8      6          8     562\n",
       "top     6-24-2017 9:01:52  T19S38b3  Same / Pareil  Maybe / Peut-être  Same / Pareil  Maybe / Peut-être  Stay the same / La même  Stay the same / La même  Stay the same / La même  Male / Homme  Married / Marié  30-34  Bachelor’s degree / Licence  Salaried employee / Salarié  I am not a student / Je ne suis pas un étudiant  Black / Noir  Cameroon  Spintex   Between 2-3 times  Entre 10 001 et 59 000  Friends  At least 1 month but less than 3 months  Never  Never  Most of the time  At least 7-8 out of 10 times  Personal or family expenses (Health, education)     No     No   Bank      3      3      4  5 - Definitely agree  Yes / Oui     No  10% - 20%  100000\n",
       "freq                    4        12          13195              16001          14793              15745                    14096                    14603                    14323         17551            12654   9308                         7889                        10138                                             1509          2550      6218       331               5606                    3685     7750                                     5163   5226   5229              4299                          4575                                             5943   8947  10974   5302   5235   5942   4576                  1744       4344   6630        543     149"
      ]
     },
     "execution_count": 7,
     "metadata": {},
     "output_type": "execute_result"
    }
   ],
   "source": [
    "df.describe()"
   ]
  },
  {
   "cell_type": "code",
   "execution_count": 13,
   "metadata": {},
   "outputs": [
    {
     "data": {
      "text/plain": [
       "['2', '3']"
      ]
     },
     "execution_count": 13,
     "metadata": {},
     "output_type": "execute_result"
    }
   ],
   "source": [
    "import re\n",
    "\n",
    "str1 = \"Between 2-3 times\"\n",
    "\n",
    "\n",
    "re.findall('\\d+', str1 )\n"
   ]
  },
  {
   "cell_type": "code",
   "execution_count": 8,
   "metadata": {},
   "outputs": [],
   "source": [
    "import category_maps as maps\n",
    "import dictionaries as dic\n",
    "import data_pre_processor as preproc"
   ]
  },
  {
   "cell_type": "code",
   "execution_count": 13,
   "metadata": {},
   "outputs": [
    {
     "data": {
      "text/plain": [
       "array([2, 3, 1, 4, 0], dtype=int64)"
      ]
     },
     "execution_count": 13,
     "metadata": {},
     "output_type": "execute_result"
    }
   ],
   "source": [
    "col = 18\n",
    "df['test'] = df[col].apply(preproc.categorize,map=maps.map_col18)\n",
    "df['test'].unique()"
   ]
  },
  {
   "cell_type": "code",
   "execution_count": 14,
   "metadata": {},
   "outputs": [
    {
     "data": {
      "text/html": [
       "<div>\n",
       "<style scoped>\n",
       "    .dataframe tbody tr th:only-of-type {\n",
       "        vertical-align: middle;\n",
       "    }\n",
       "\n",
       "    .dataframe tbody tr th {\n",
       "        vertical-align: top;\n",
       "    }\n",
       "\n",
       "    .dataframe thead th {\n",
       "        text-align: right;\n",
       "    }\n",
       "</style>\n",
       "<table border=\"1\" class=\"dataframe\">\n",
       "  <thead>\n",
       "    <tr style=\"text-align: right;\">\n",
       "      <th></th>\n",
       "      <th>18</th>\n",
       "      <th>test</th>\n",
       "    </tr>\n",
       "  </thead>\n",
       "  <tbody>\n",
       "    <tr>\n",
       "      <th>0</th>\n",
       "      <td>Between 2-3 times</td>\n",
       "      <td>2</td>\n",
       "    </tr>\n",
       "    <tr>\n",
       "      <th>1</th>\n",
       "      <td>Between 2-3 times</td>\n",
       "      <td>2</td>\n",
       "    </tr>\n",
       "    <tr>\n",
       "      <th>2</th>\n",
       "      <td>Between 2-3 times</td>\n",
       "      <td>2</td>\n",
       "    </tr>\n",
       "    <tr>\n",
       "      <th>3</th>\n",
       "      <td>Between 2-3 times</td>\n",
       "      <td>2</td>\n",
       "    </tr>\n",
       "    <tr>\n",
       "      <th>4</th>\n",
       "      <td>Between 2-3 times</td>\n",
       "      <td>2</td>\n",
       "    </tr>\n",
       "    <tr>\n",
       "      <th>5</th>\n",
       "      <td>Once</td>\n",
       "      <td>3</td>\n",
       "    </tr>\n",
       "    <tr>\n",
       "      <th>6</th>\n",
       "      <td>Once</td>\n",
       "      <td>3</td>\n",
       "    </tr>\n",
       "    <tr>\n",
       "      <th>7</th>\n",
       "      <td>More than 4 times</td>\n",
       "      <td>1</td>\n",
       "    </tr>\n",
       "    <tr>\n",
       "      <th>8</th>\n",
       "      <td>Between 2-3 times</td>\n",
       "      <td>2</td>\n",
       "    </tr>\n",
       "    <tr>\n",
       "      <th>9</th>\n",
       "      <td>Between 2-3 times</td>\n",
       "      <td>2</td>\n",
       "    </tr>\n",
       "    <tr>\n",
       "      <th>10</th>\n",
       "      <td>Between 2-3 times</td>\n",
       "      <td>2</td>\n",
       "    </tr>\n",
       "    <tr>\n",
       "      <th>11</th>\n",
       "      <td>Once</td>\n",
       "      <td>3</td>\n",
       "    </tr>\n",
       "    <tr>\n",
       "      <th>12</th>\n",
       "      <td>Once</td>\n",
       "      <td>3</td>\n",
       "    </tr>\n",
       "    <tr>\n",
       "      <th>13</th>\n",
       "      <td>Once</td>\n",
       "      <td>3</td>\n",
       "    </tr>\n",
       "    <tr>\n",
       "      <th>14</th>\n",
       "      <td>Between 2-3 times</td>\n",
       "      <td>2</td>\n",
       "    </tr>\n",
       "    <tr>\n",
       "      <th>15</th>\n",
       "      <td>Never</td>\n",
       "      <td>4</td>\n",
       "    </tr>\n",
       "    <tr>\n",
       "      <th>16</th>\n",
       "      <td>Once</td>\n",
       "      <td>3</td>\n",
       "    </tr>\n",
       "    <tr>\n",
       "      <th>17</th>\n",
       "      <td>Between 2-3 times</td>\n",
       "      <td>2</td>\n",
       "    </tr>\n",
       "    <tr>\n",
       "      <th>18</th>\n",
       "      <td>Once</td>\n",
       "      <td>3</td>\n",
       "    </tr>\n",
       "    <tr>\n",
       "      <th>19</th>\n",
       "      <td>Between 2-3 times</td>\n",
       "      <td>2</td>\n",
       "    </tr>\n",
       "    <tr>\n",
       "      <th>20</th>\n",
       "      <td>Between 2-3 times</td>\n",
       "      <td>2</td>\n",
       "    </tr>\n",
       "    <tr>\n",
       "      <th>21</th>\n",
       "      <td>Once</td>\n",
       "      <td>3</td>\n",
       "    </tr>\n",
       "    <tr>\n",
       "      <th>22</th>\n",
       "      <td>Once</td>\n",
       "      <td>3</td>\n",
       "    </tr>\n",
       "    <tr>\n",
       "      <th>23</th>\n",
       "      <td>Between 2-3 times</td>\n",
       "      <td>2</td>\n",
       "    </tr>\n",
       "    <tr>\n",
       "      <th>24</th>\n",
       "      <td>Between 2-3 times</td>\n",
       "      <td>2</td>\n",
       "    </tr>\n",
       "    <tr>\n",
       "      <th>...</th>\n",
       "      <td>...</td>\n",
       "      <td>...</td>\n",
       "    </tr>\n",
       "    <tr>\n",
       "      <th>9876</th>\n",
       "      <td>Between 2-3 times / Entre 2 et 3 fois</td>\n",
       "      <td>2</td>\n",
       "    </tr>\n",
       "    <tr>\n",
       "      <th>9877</th>\n",
       "      <td>Between 2-3 times / Entre 2 et 3 fois</td>\n",
       "      <td>2</td>\n",
       "    </tr>\n",
       "    <tr>\n",
       "      <th>9878</th>\n",
       "      <td>Between 2-3 times / Entre 2 et 3 fois</td>\n",
       "      <td>2</td>\n",
       "    </tr>\n",
       "    <tr>\n",
       "      <th>9879</th>\n",
       "      <td>Between 2-3 times / Entre 2 et 3 fois</td>\n",
       "      <td>2</td>\n",
       "    </tr>\n",
       "    <tr>\n",
       "      <th>9880</th>\n",
       "      <td>More than 4 times / Plus de 4 fois</td>\n",
       "      <td>1</td>\n",
       "    </tr>\n",
       "    <tr>\n",
       "      <th>9881</th>\n",
       "      <td>Between 2-3 times / Entre 2 et 3 fois</td>\n",
       "      <td>2</td>\n",
       "    </tr>\n",
       "    <tr>\n",
       "      <th>9882</th>\n",
       "      <td>Between 2-3 times / Entre 2 et 3 fois</td>\n",
       "      <td>2</td>\n",
       "    </tr>\n",
       "    <tr>\n",
       "      <th>9883</th>\n",
       "      <td>More than 4 times / Plus de 4 fois</td>\n",
       "      <td>1</td>\n",
       "    </tr>\n",
       "    <tr>\n",
       "      <th>9884</th>\n",
       "      <td>Once / Une fois</td>\n",
       "      <td>3</td>\n",
       "    </tr>\n",
       "    <tr>\n",
       "      <th>9885</th>\n",
       "      <td>Between 2-3 times / Entre 2 et 3 fois</td>\n",
       "      <td>2</td>\n",
       "    </tr>\n",
       "    <tr>\n",
       "      <th>9886</th>\n",
       "      <td>More than 4 times / Plus de 4 fois</td>\n",
       "      <td>1</td>\n",
       "    </tr>\n",
       "    <tr>\n",
       "      <th>9887</th>\n",
       "      <td>More than 4 times / Plus de 4 fois</td>\n",
       "      <td>1</td>\n",
       "    </tr>\n",
       "    <tr>\n",
       "      <th>9888</th>\n",
       "      <td>Between 2-3 times / Entre 2 et 3 fois</td>\n",
       "      <td>2</td>\n",
       "    </tr>\n",
       "    <tr>\n",
       "      <th>9889</th>\n",
       "      <td>Between 2-3 times / Entre 2 et 3 fois</td>\n",
       "      <td>2</td>\n",
       "    </tr>\n",
       "    <tr>\n",
       "      <th>9890</th>\n",
       "      <td>Between 2-3 times / Entre 2 et 3 fois</td>\n",
       "      <td>2</td>\n",
       "    </tr>\n",
       "    <tr>\n",
       "      <th>9891</th>\n",
       "      <td>More than 4 times / Plus de 4 fois</td>\n",
       "      <td>1</td>\n",
       "    </tr>\n",
       "    <tr>\n",
       "      <th>9892</th>\n",
       "      <td>Between 2-3 times / Entre 2 et 3 fois</td>\n",
       "      <td>2</td>\n",
       "    </tr>\n",
       "    <tr>\n",
       "      <th>9893</th>\n",
       "      <td>Between 2-3 times / Entre 2 et 3 fois</td>\n",
       "      <td>2</td>\n",
       "    </tr>\n",
       "    <tr>\n",
       "      <th>9894</th>\n",
       "      <td>Between 2-3 times / Entre 2 et 3 fois</td>\n",
       "      <td>2</td>\n",
       "    </tr>\n",
       "    <tr>\n",
       "      <th>9895</th>\n",
       "      <td>More than 4 times / Plus de 4 fois</td>\n",
       "      <td>1</td>\n",
       "    </tr>\n",
       "    <tr>\n",
       "      <th>9896</th>\n",
       "      <td>More than 4 times / Plus de 4 fois</td>\n",
       "      <td>1</td>\n",
       "    </tr>\n",
       "    <tr>\n",
       "      <th>9897</th>\n",
       "      <td>Never / Jamais</td>\n",
       "      <td>4</td>\n",
       "    </tr>\n",
       "    <tr>\n",
       "      <th>9898</th>\n",
       "      <td>Between 2-3 times / Entre 2 et 3 fois</td>\n",
       "      <td>2</td>\n",
       "    </tr>\n",
       "    <tr>\n",
       "      <th>9899</th>\n",
       "      <td>More than 4 times / Plus de 4 fois</td>\n",
       "      <td>1</td>\n",
       "    </tr>\n",
       "    <tr>\n",
       "      <th>9900</th>\n",
       "      <td>Once / Une fois</td>\n",
       "      <td>3</td>\n",
       "    </tr>\n",
       "  </tbody>\n",
       "</table>\n",
       "<p>29383 rows × 2 columns</p>\n",
       "</div>"
      ],
      "text/plain": [
       "                                         18  test\n",
       "0                         Between 2-3 times     2\n",
       "1                         Between 2-3 times     2\n",
       "2                         Between 2-3 times     2\n",
       "3                         Between 2-3 times     2\n",
       "4                         Between 2-3 times     2\n",
       "5                                      Once     3\n",
       "6                                      Once     3\n",
       "7                         More than 4 times     1\n",
       "8                         Between 2-3 times     2\n",
       "9                         Between 2-3 times     2\n",
       "10                        Between 2-3 times     2\n",
       "11                                     Once     3\n",
       "12                                     Once     3\n",
       "13                                     Once     3\n",
       "14                        Between 2-3 times     2\n",
       "15                                    Never     4\n",
       "16                                     Once     3\n",
       "17                        Between 2-3 times     2\n",
       "18                                     Once     3\n",
       "19                        Between 2-3 times     2\n",
       "20                        Between 2-3 times     2\n",
       "21                                     Once     3\n",
       "22                                     Once     3\n",
       "23                        Between 2-3 times     2\n",
       "24                        Between 2-3 times     2\n",
       "...                                     ...   ...\n",
       "9876  Between 2-3 times / Entre 2 et 3 fois     2\n",
       "9877  Between 2-3 times / Entre 2 et 3 fois     2\n",
       "9878  Between 2-3 times / Entre 2 et 3 fois     2\n",
       "9879  Between 2-3 times / Entre 2 et 3 fois     2\n",
       "9880     More than 4 times / Plus de 4 fois     1\n",
       "9881  Between 2-3 times / Entre 2 et 3 fois     2\n",
       "9882  Between 2-3 times / Entre 2 et 3 fois     2\n",
       "9883     More than 4 times / Plus de 4 fois     1\n",
       "9884                        Once / Une fois     3\n",
       "9885  Between 2-3 times / Entre 2 et 3 fois     2\n",
       "9886     More than 4 times / Plus de 4 fois     1\n",
       "9887     More than 4 times / Plus de 4 fois     1\n",
       "9888  Between 2-3 times / Entre 2 et 3 fois     2\n",
       "9889  Between 2-3 times / Entre 2 et 3 fois     2\n",
       "9890  Between 2-3 times / Entre 2 et 3 fois     2\n",
       "9891     More than 4 times / Plus de 4 fois     1\n",
       "9892  Between 2-3 times / Entre 2 et 3 fois     2\n",
       "9893  Between 2-3 times / Entre 2 et 3 fois     2\n",
       "9894  Between 2-3 times / Entre 2 et 3 fois     2\n",
       "9895     More than 4 times / Plus de 4 fois     1\n",
       "9896     More than 4 times / Plus de 4 fois     1\n",
       "9897                         Never / Jamais     4\n",
       "9898  Between 2-3 times / Entre 2 et 3 fois     2\n",
       "9899     More than 4 times / Plus de 4 fois     1\n",
       "9900                        Once / Une fois     3\n",
       "\n",
       "[29383 rows x 2 columns]"
      ]
     },
     "execution_count": 14,
     "metadata": {},
     "output_type": "execute_result"
    }
   ],
   "source": [
    "df[[col,'test']]"
   ]
  },
  {
   "cell_type": "markdown",
   "metadata": {},
   "source": [
    "## Verify Quality of the Data that are Included into  the Formula\n",
    "\n",
    "### Risk Columns\n",
    "\n",
    "#### Recipients\n",
    "\n",
    "\n",
    "Raw | Description | Categories | Weights \n",
    "--------- | -------------| ------- | ------  \n",
    "Family | Family | 1 | -0.05\n",
    "Friends | Friends | 2 | 0.1 \n",
    "Business colleagues | Business Colleagues | 3 | 0.1 \n",
    "None of the above | Other | 4 | -0.05 \n"
   ]
  },
  {
   "cell_type": "code",
   "execution_count": 272,
   "metadata": {
    "scrolled": true
   },
   "outputs": [
    {
     "data": {
      "text/plain": [
       "(15, array(['About half the time', 'Occasionally', 'Most of the time', 'Never',\n",
       "        'Always', 'Never / Jamais', 'Occasionally / Souvent',\n",
       "        'Always /\\xa0Toujours',\n",
       "        'About half the time /\\xa0La moitié du temps',\n",
       "        'Most of the time /\\xa0La majorité du temps', 'Jamais',\n",
       "        'La moitié du temps', 'Souvent', 'La majorité du temps',\n",
       "        'Toujours'], dtype=object))"
      ]
     },
     "execution_count": 272,
     "metadata": {},
     "output_type": "execute_result"
    }
   ],
   "source": [
    "u=df[22].unique() #20. Who did you lend money to in the past 3 months?\n",
    "len(u),u"
   ]
  },
  {
   "cell_type": "markdown",
   "metadata": {},
   "source": [
    "#### Interest\n",
    "\n",
    "\n",
    "Raw | Description | Categories | Weights \n",
    "--------- | -------------| ------- | ------  \n",
    "Always /Toujours | Always | 1 | -0.1\n",
    "Most of the time/ La moitié du temps | Most of the Time | 2 | -0.05 \n",
    "About half the time/ La moitié du temps | About half the time | 3 | 0.05 \n",
    "Occasionally/ Souvent | Occasionally | 4 | 0.08 \n",
    "Never / Jamais | Never | 5 | 0.12 "
   ]
  },
  {
   "cell_type": "code",
   "execution_count": 164,
   "metadata": {},
   "outputs": [
    {
     "data": {
      "text/plain": [
       "(15, array(['About half the time', 'Occasionally', 'Most of the time', 'Never',\n",
       "        'Always', 'Never / Jamais', 'Occasionally / Souvent',\n",
       "        'Always /\\xa0Toujours',\n",
       "        'About half the time /\\xa0La moitié du temps',\n",
       "        'Most of the time /\\xa0La majorité du temps', 'Jamais',\n",
       "        'La moitié du temps', 'Souvent', 'La majorité du temps',\n",
       "        'Toujours'], dtype=object))"
      ]
     },
     "execution_count": 164,
     "metadata": {},
     "output_type": "execute_result"
    }
   ],
   "source": [
    "u = df[22].unique() # 22:\"Do you include either interest or a lending fee when you lend?\"\n",
    "len(u), u"
   ]
  },
  {
   "cell_type": "markdown",
   "metadata": {},
   "source": [
    "#### Collateral\n",
    "\n",
    "\n",
    "Raw | Description | Categories | Weights \n",
    "--------- | -------------| ------- | ------  \n",
    "Always /Toujours | Always | 1 | -0.05\n",
    "Most of the time/ La moitié du temps | Most of the Time | 2 | -0.03 \n",
    "About half the time/ La moitié du temps | About half the time | 3 | 0.03 \n",
    "Occasionally/ Souvent | Occasionally | 4 | 0.04 \n",
    "Never / Jamais | Never | 5 | 0.06 "
   ]
  },
  {
   "cell_type": "code",
   "execution_count": 163,
   "metadata": {},
   "outputs": [
    {
     "data": {
      "text/plain": [
       "(18, array(['Most of the time', 'Never', 'About half the time', 'Occasionally',\n",
       "        'Always', 'Never / Jamais', 'Occasionally / Souvent',\n",
       "        'Always /\\xa0Toujours',\n",
       "        'Most of the time /\\xa0La majorité du temps',\n",
       "        'About half the time /\\xa0La moitié du temps',\n",
       "        'About half the time / La moitié du temps', 'Always / Toujours',\n",
       "        'Most of the time / La majorité du temps', 'Jamais',\n",
       "        'La majorité du temps', 'Souvent', 'La moitié du temps',\n",
       "        'Toujours'], dtype=object))"
      ]
     },
     "execution_count": 163,
     "metadata": {},
     "output_type": "execute_result"
    }
   ],
   "source": [
    "u = df[23].unique() #23:\"Do you request guarantees when you lend?\"\n",
    "len(u),u   "
   ]
  },
  {
   "cell_type": "markdown",
   "metadata": {},
   "source": [
    "### Liquidity\n",
    "\n",
    "#### Frequency\n",
    "\n",
    "\n",
    "Raw | Description | Categories | Weights \n",
    "--------- | -------------| ------- | ------  \n",
    "More than 4 times / Plus de 4 foiss | More than 4 times | 1 | 0.1\n",
    "Between 2-3 times / Entre 2 et 3 fois | 2-3 times | 2 | 0.07 \n",
    "Once / Une fois | Once | 3 | -0.02 \n",
    "Never / Jamais | Never | 4 | -0.05 \n"
   ]
  },
  {
   "cell_type": "code",
   "execution_count": 166,
   "metadata": {},
   "outputs": [
    {
     "data": {
      "text/plain": [
       "(22, array(['Between 2-3 times', 'Once', 'More than 4 times', 'Never',\n",
       "        'Once / Une fois', 'Between 2-3 times /\\xa0Entre 2 et 3 fois',\n",
       "        'More than 4 times / Plus de 4 fois', 'Never / Jamais',\n",
       "        'Plus de 4 fois', 'Entre 2 et 3 fois', 'Aucune', 'Une fois',\n",
       "        'Jamais', 'Une fois, Entre 2 et 3 fois',\n",
       "        'Entre 2 et 3 fois, Plus de 4 fois', 'Une fois, Plus de 4 fois',\n",
       "        'Jamais, Entre 2 et 3 fois', 'Jamais, Une fois, Entre 2 et 3 fois',\n",
       "        'Une fois, Entre 2 et 3 fois, Plus de 4 fois',\n",
       "        'Jamais, Plus de 4 fois',\n",
       "        'Jamais, Une fois, Entre 2 et 3 fois, Plus de 4 fois',\n",
       "        'Jamais, Une fois'], dtype=object))"
      ]
     },
     "execution_count": 166,
     "metadata": {},
     "output_type": "execute_result"
    }
   ],
   "source": [
    "u=df[18].unique() #18:\"Over the past 3 months, how many times have you lent someone money?\"\n",
    "len(u),u"
   ]
  },
  {
   "cell_type": "markdown",
   "metadata": {},
   "source": [
    "#### Duration\n",
    "\n",
    "\n",
    "Raw | Description | Categories | Weights \n",
    "--------- | -------------| ------- | ------  \n",
    "Less than a month / Moins d'un mois | Less tan a month | 1 | -0.01 \n",
    "At least 1 month but than 3 months / 1 - 2 mois | At least 1 month but less than 3 months | 2 | 0.02 \n",
    "At least 3 months but less than 6 months / 3 - 5 mois | At least 3 months but less than 6 months  | 3 | 0.03 \n",
    "At least 6 months but less than 12 months / 6 - 11 mois | At least 6 months but less than 12 months | 4 | 0.04 \n",
    "One year or more / Plus d'un an | One year or more | 5 | 0.05 \n",
    "??? | ??? | 6 | -0.02 "
   ]
  },
  {
   "cell_type": "code",
   "execution_count": 167,
   "metadata": {},
   "outputs": [
    {
     "data": {
      "text/plain": [
       "(18, array(['At least 3 months but less than 6 months',\n",
       "        'At least 1 month but less than 3 months', 'Less than a month',\n",
       "        'One year or more', 'At least 6 months but less than 12 months',\n",
       "        \"Never - I don't expect to get repaid\",\n",
       "        'At least 1 month but than 3 months',\n",
       "        'At least 3 months but less than 6 months / 3 - 5 mois',\n",
       "        \"Less than a month / Moins d'un mois\",\n",
       "        'At least 1 month but than 3 months /\\xa01 - 2 mois',\n",
       "        'At least 6 months but less than 12 months / 6 - 11 mois',\n",
       "        \"One year or more / Plus d'un an\", \"Moins d'un mois\", '1 - 2 mois',\n",
       "        '3 - 5 mois', '6 - 11 mois', \"Plus d'un an\", nan], dtype=object))"
      ]
     },
     "execution_count": 167,
     "metadata": {},
     "output_type": "execute_result"
    }
   ],
   "source": [
    "u=df[21].unique() #21:\"When you lend money, when do you usually expect to get it repaid?\"\n",
    "len(u),u"
   ]
  },
  {
   "cell_type": "markdown",
   "metadata": {},
   "source": [
    "#### Amount\n",
    "\n",
    "\n",
    "Raw | Description | Categories | Weights \n",
    "--------- | -------------| ------- | ------  \n",
    "??? | Micro | 1 | -0.05 \n",
    "??? | Small | 2 | 0.03 \n",
    "??? | Medium | 3 | 0.05 \n",
    "??? | Large | 4 | 0.07 \n"
   ]
  },
  {
   "cell_type": "code",
   "execution_count": null,
   "metadata": {},
   "outputs": [],
   "source": []
  },
  {
   "cell_type": "markdown",
   "metadata": {},
   "source": [
    "### Default\n",
    "\n",
    "Raw | Description | Categories | Weights \n",
    "--------- | -------------| ------- | ------  \n",
    "Always /Toujours | Always | 1 | 0.35\n",
    "Most of the time/ La moitié du temps | Most of the Time | 2 | 0.25 \n",
    "About half the time/ La moitié du temps | About half the time | 3 | 0.15 \n",
    "Occasionally/ Souvent | Occasionally | 4 | -0.1 \n",
    "Never / Jamais | Never | 5 | -0.3 "
   ]
  },
  {
   "cell_type": "code",
   "execution_count": 174,
   "metadata": {},
   "outputs": [
    {
     "data": {
      "text/plain": [
       "(18, array(['About half the time', 'Most of the time', 'Occasionally', 'Never',\n",
       "        'Always', 'Most of the time /\\xa0La majorité du temps',\n",
       "        'Always /\\xa0Toujours',\n",
       "        'About half the time /\\xa0La moitié du temps',\n",
       "        'Occasionally / Souvent', 'Never / Jamais',\n",
       "        'Most of the time / La majorité du temps', 'Always / Toujours',\n",
       "        'About half the time / La moitié du temps', 'La moitié du temps',\n",
       "        'Toujours', 'La majorité du temps', 'Souvent', 'Jamais'],\n",
       "       dtype=object))"
      ]
     },
     "execution_count": 174,
     "metadata": {},
     "output_type": "execute_result"
    }
   ],
   "source": [
    "u=df[24].unique() # 24:\"Do you receive your money back in time?\"\n",
    "len(u),u"
   ]
  },
  {
   "cell_type": "markdown",
   "metadata": {},
   "source": [
    "### Usage\n",
    "\n",
    "Raw | Description | Categories | Weights \n",
    "--------- | -------------| ------- | ------  \n",
    "Same | To cover regular expenses (Rent, clothing, home appliances, etc.) | 1 | -0.1\n",
    "Same| To pay for one-time or sudden expenses (Wedding, medical emergencies, etc.) | 2 | 0.05 \n",
    "Same | To invest or cover business expenses (Merchandise, salaries, etc..) | 3 | 0.15 \n",
    "To pay off other debts | To pay off other debts | 4 | -0.05 \n",
    "I don't know | I don't know | 5 | 0.05 "
   ]
  },
  {
   "cell_type": "code",
   "execution_count": 198,
   "metadata": {
    "scrolled": true
   },
   "outputs": [
    {
     "data": {
      "text/plain": [
       "(18,\n",
       " array(['To invest or cover business expenses (Merchandise, salaries, etc..)',\n",
       "        'To pay for one-time or sudden expenses (Wedding, medical emergencies, etc.)',\n",
       "        'To cover regular expenses (Rent, clothing, home appliances, etc.)',\n",
       "        'To pay off other debts', \"I don't know\",\n",
       "        'Investment (commerce, merchandise, etc.)',\n",
       "        'Personal or family expenses (Health, education)', nan,\n",
       "        'Pour payer des dépenses ponctuelles ou soudaines (mariage, urgences médicales, etc.)',\n",
       "        'Pour couvrir les dépenses régulières (loyer, vêtements, appareils ménagers, etc.)',\n",
       "        \"Payer d'autres dettes\",\n",
       "        'Pour investir ou couvrir les dépenses de votre entreprise (marchandises, salaires, etc.)',\n",
       "        'Je ne sais pas', 'Régler les problèmes subits',\n",
       "        'Investir dans un projet', \"I don't know / Je ne sais pas\",\n",
       "        'Personal or family expenses (Health, education) /\\xa0Régler les problèmes subits',\n",
       "        'Investment (commerce, merchandise, etc.) / Investir dans un projet'],\n",
       "       dtype=object))"
      ]
     },
     "execution_count": 198,
     "metadata": {},
     "output_type": "execute_result"
    }
   ],
   "source": [
    "u=df[26].unique() #26:\"What's the most common use of the money you lend?\"\n",
    "len(u),u"
   ]
  },
  {
   "cell_type": "code",
   "execution_count": null,
   "metadata": {},
   "outputs": [],
   "source": []
  }
 ],
 "metadata": {
  "kernelspec": {
   "display_name": "Python 3",
   "language": "python",
   "name": "python3"
  },
  "language_info": {
   "codemirror_mode": {
    "name": "ipython",
    "version": 3
   },
   "file_extension": ".py",
   "mimetype": "text/x-python",
   "name": "python",
   "nbconvert_exporter": "python",
   "pygments_lexer": "ipython3",
   "version": "3.7.3"
  }
 },
 "nbformat": 4,
 "nbformat_minor": 2
}
