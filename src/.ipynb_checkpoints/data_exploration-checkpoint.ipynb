{
 "cells": [
  {
   "cell_type": "markdown",
   "metadata": {},
   "source": [
    "# Lending Environment Simulation Model & Lender Evaluation Tool"
   ]
  },
  {
   "cell_type": "markdown",
   "metadata": {},
   "source": [
    "# Data Exploration"
   ]
  },
  {
   "cell_type": "code",
   "execution_count": 155,
   "metadata": {},
   "outputs": [
    {
     "data": {
      "text/plain": [
       "2"
      ]
     },
     "execution_count": 155,
     "metadata": {},
     "output_type": "execute_result"
    }
   ],
   "source": [
    "import glob\n",
    "import os\n",
    "import numpy as np\n",
    "import pandas as pd\n",
    "\n",
    "\n",
    "pd.set_option('display.max_rows', 50)\n",
    "pd.set_option('display.max_columns', 500)\n",
    "pd.set_option('display.width', 1000)\n",
    "\n",
    "input_path = \"../data/original/*.csv\"\n",
    "paths = glob.glob(input_path)\n",
    "len(paths)"
   ]
  },
  {
   "cell_type": "code",
   "execution_count": 192,
   "metadata": {},
   "outputs": [],
   "source": [
    "#Dictionaries of categories\n",
    "opinion = {0:\"Unknown\",1:\"Yes\",2:\"No\",3:\"Maybe\"}\n",
    "relative_quantity = {0:\"Unknown\",1:\"Same\",2:\"Less\",3:\"More\"}\n",
    "relative_situation = {0:\"Unknown\",1:\"Same\",2:\"Worsen\",3:\"Improve\"}\n",
    "gender ={1:\"Male\",2:\"Female\"}\n",
    "marital_status ={0:\"Unknown\",1:\"Married\",2:\"Single\",3:\"Separated\",4:\"Dating\",5:\"Common law\",6:\"Windowed\"}\n",
    "age_groups = {0:\"Uknown\",1:\"Under 18\",2:\"18-24\", 3:\"25-29\",4:\"30-34\",5:\"35-39\",6:\"40-44\",7:\"45-54\",8:\"55-64\",9:\"65+\"}\n",
    "education = {0:\"Unknown\",1:\"High school, no diploma\",2:\"Bachelor’s degree\",3:\"Student\",\n",
    "             4:\"Trade/technical/vocational training\",5:\"Master's degree\",6:\"High school diploma\",\n",
    "             7:\"Professional Qualification e.g. CIMA\",8: \"No formal schooling\",9:\"Doctorate degree\",\n",
    "             10:\"Secondary School\",11:\"CPA T\", 12:\"Driver\", 13:\"Certificate\", 14:\"CPSP\",15: \"Basic computer knowledge\",\n",
    "             16:\"DIPLOMA IN ICT\", 17: \"WAEC\",18:\"College\",19: \"GCE\", 20: \"Ordinary Level\",21:\"Standard seven\",\n",
    "             22:\"Electronics\",23:\"Honours\",24:\"Primary School\",25:\"BECE\",26:\"Nationlal technical cert\",\n",
    "             27:\"SSCE\",28:\"National diploma(ND)\",29:\"Diploma\", 30:\"NOR\",31: \"Adult education\",\n",
    "             32:\"RAS\",33:\"Professional certificate\"}\n",
    "occupation = {0:\"Uknown\", 1:\"Salaried employee\", 2:\"Unemployed\",3:\"Business owner\",4:\"Commission-based employee\",\n",
    "              5:\"Self employed\", 6:\"Contractor\",7:\"Student\",8:\"Not looking for employment\",9:\"Retired\",\n",
    "              10:\"Business owner and salaried employee\",11:\"Salaried employee and student\",\n",
    "              12:\"Pastor\", 13:\"Apprentice\",14:\"Part time employee\",15:\"Hair stylist\",16:\"Politician\",\n",
    "              17:\"Student with a business\",18:\"Advocate, Lecturer & Campaign agent\",19:\"Serving corper\",\n",
    "              20:\"Partime employee and student\",21: \"Pharmaceutical technician\",22:\"Farmer\",\n",
    "              23:\"Trader\",24:\"Chemical engineer\",25: \"Consultant\",26:\"Driver\", 27:\"Marketer\",\n",
    "              28:\"Electrical engineer\",29: \"Eengineer\",30:\"films makre\",31:\"fashionist\",32:\"Federal employee\",\n",
    "              33:\"elève\",34:\"chantre\", 36:\"Iron worker\"}\n",
    "study_subject = {0:\"Unknown\",1:\"Technical or other college diploma\",2:\"I am not a student\",\n",
    "                 3:\"Undergraduate Degree\",4:\"Post Graduate Degree\",5:\"Honours Degree\"}"
   ]
  },
  {
   "cell_type": "code",
   "execution_count": 156,
   "metadata": {},
   "outputs": [
    {
     "data": {
      "text/plain": [
       "((29383, 38),\n",
       " Int64Index([0, 1, 2, 3, 4, 5, 6, 7, 8, 9, 10, 11, 12, 13, 14, 15, 16, 17, 18, 19, 20, 21, 22, 23, 24, 25, 26, 27, 28, 29, 30, 31, 32, 33, 34, 35, 36, 37], dtype='int64'))"
      ]
     },
     "execution_count": 156,
     "metadata": {},
     "output_type": "execute_result"
    }
   ],
   "source": [
    "# read all *.csv files from the input path\n",
    "# drop the headers and replace them with the sequential numbers \n",
    "df = pd.concat([pd.read_csv(f,names=range(0,38),header=0) for f in paths])\n",
    "df.shape,df.columns\n",
    "    "
   ]
  },
  {
   "cell_type": "code",
   "execution_count": 157,
   "metadata": {},
   "outputs": [],
   "source": [
    "# this is a column dictionry\n",
    "columns ={0: \"Timestamp\",\n",
    "          1: \"Location ID\",\n",
    "          2: \"Has it become more difficult or easier to find a job in your city?\",\n",
    "          3: \"Is this a good time for people to make a large purchase such as furniture or electrical appliances, given the economic climate?\",\n",
    "          4: \"Compared to the last 6 months, are you able to spend (more, the same or less) money on large purchases (furniture, electrical appliances) over the next 6 months?\",\n",
    "          5: \"Will you be able to meet your regular expenses over the next 6 months?\",\n",
    "          6: \"How do you expect your household’s income to change over the next 6 months?\",\n",
    "          7: \"How do you expect general economic conditions in your city to change over the next 6 months?\",\n",
    "          8: \"How do you expect general economic conditions in your country to change over the next 6 months?\",\n",
    "          9: \"Gender\",\n",
    "          10:\"Marital status\",\n",
    "          11:\"Age\",\n",
    "          12:\"What's your highest level of education?\",\n",
    "          13:\"Occupation\",\n",
    "          14:\"If you are a student, what level are you currently studying?\",\n",
    "          15:\"Race/Ethnicity\",\n",
    "          16:\"Country\",\n",
    "          17:\"What is the name of the neighborhood where you live?\",\n",
    "          18:\"Over the past 3 months, how many times have you lent someone money?\",\n",
    "          19:\"On average how much do you lend in general?\",\n",
    "          20:\"Who did you lend money to in the past 3 months?\",\n",
    "          21:\"When you lend money, when do you usually expect to get it repaid?\",\n",
    "          22:\"Do you include either interest or a lending fee when you lend?\",\n",
    "          23:\"Do you request guarantees when you lend?\",\n",
    "          24:\"Do you receive your money back in time?\",\n",
    "          25:\"Assuming that you have lent money at least ten times, how often would you get your money repaid?\",\n",
    "          26:\"What's the most common use of the money you lend?\",\n",
    "          27:\"Have you ever applied for a bank loan?\",\n",
    "          28:\"Are you a tontine / lending club member?\",\n",
    "          29:\"What is the most convenient way to get a loan?\",\n",
    "          30:\"To what extent do you agree with the following sentences [Access to credit is essential for me to achieve financial freedom]\",\n",
    "          31:\"To what extent do you agree with the following sentences [Credit is beneficial only if you have discipline]\",\n",
    "          32:\"To what extent do you agree with the following sentences [I would like to have more credit management training]\",\n",
    "          33:\"What type of loans are you currently paying of?\",\n",
    "          34:\"Do you have a credit score?\",\n",
    "          35:\"Do you have a credit card?\",\n",
    "          36:\"On average, how much of your total household monthly income do you spend paying off debt each month?\",\n",
    "          37:\"If you wanted to take a loan to start a business, how much would you need?\"\n",
    "}"
   ]
  },
  {
   "cell_type": "code",
   "execution_count": 158,
   "metadata": {
    "scrolled": false
   },
   "outputs": [
    {
     "data": {
      "text/html": [
       "<div>\n",
       "<style scoped>\n",
       "    .dataframe tbody tr th:only-of-type {\n",
       "        vertical-align: middle;\n",
       "    }\n",
       "\n",
       "    .dataframe tbody tr th {\n",
       "        vertical-align: top;\n",
       "    }\n",
       "\n",
       "    .dataframe thead th {\n",
       "        text-align: right;\n",
       "    }\n",
       "</style>\n",
       "<table border=\"1\" class=\"dataframe\">\n",
       "  <thead>\n",
       "    <tr style=\"text-align: right;\">\n",
       "      <th></th>\n",
       "      <th>0</th>\n",
       "      <th>1</th>\n",
       "      <th>2</th>\n",
       "      <th>3</th>\n",
       "      <th>4</th>\n",
       "      <th>5</th>\n",
       "      <th>6</th>\n",
       "      <th>7</th>\n",
       "      <th>8</th>\n",
       "      <th>9</th>\n",
       "      <th>10</th>\n",
       "      <th>11</th>\n",
       "      <th>12</th>\n",
       "      <th>13</th>\n",
       "      <th>14</th>\n",
       "      <th>15</th>\n",
       "      <th>16</th>\n",
       "      <th>17</th>\n",
       "      <th>18</th>\n",
       "      <th>19</th>\n",
       "      <th>20</th>\n",
       "      <th>21</th>\n",
       "      <th>22</th>\n",
       "      <th>23</th>\n",
       "      <th>24</th>\n",
       "      <th>25</th>\n",
       "      <th>26</th>\n",
       "      <th>27</th>\n",
       "      <th>28</th>\n",
       "      <th>29</th>\n",
       "      <th>30</th>\n",
       "      <th>31</th>\n",
       "      <th>32</th>\n",
       "      <th>33</th>\n",
       "      <th>34</th>\n",
       "      <th>35</th>\n",
       "      <th>36</th>\n",
       "      <th>37</th>\n",
       "    </tr>\n",
       "  </thead>\n",
       "  <tbody>\n",
       "    <tr>\n",
       "      <th>count</th>\n",
       "      <td>29383</td>\n",
       "      <td>29383</td>\n",
       "      <td>27212</td>\n",
       "      <td>27212</td>\n",
       "      <td>27212</td>\n",
       "      <td>27212</td>\n",
       "      <td>27212</td>\n",
       "      <td>27212</td>\n",
       "      <td>27212</td>\n",
       "      <td>28391</td>\n",
       "      <td>28391</td>\n",
       "      <td>28391</td>\n",
       "      <td>28391</td>\n",
       "      <td>28391</td>\n",
       "      <td>3298</td>\n",
       "      <td>3298</td>\n",
       "      <td>29383</td>\n",
       "      <td>18709</td>\n",
       "      <td>29383</td>\n",
       "      <td>27906</td>\n",
       "      <td>29314</td>\n",
       "      <td>28349</td>\n",
       "      <td>29383</td>\n",
       "      <td>29383</td>\n",
       "      <td>29383</td>\n",
       "      <td>29383</td>\n",
       "      <td>24656</td>\n",
       "      <td>23091</td>\n",
       "      <td>23091</td>\n",
       "      <td>23089</td>\n",
       "      <td>18748</td>\n",
       "      <td>18748</td>\n",
       "      <td>18748</td>\n",
       "      <td>8675</td>\n",
       "      <td>16131</td>\n",
       "      <td>14389</td>\n",
       "      <td>2259</td>\n",
       "      <td>3349</td>\n",
       "    </tr>\n",
       "    <tr>\n",
       "      <th>unique</th>\n",
       "      <td>26008</td>\n",
       "      <td>24800</td>\n",
       "      <td>3</td>\n",
       "      <td>3</td>\n",
       "      <td>3</td>\n",
       "      <td>3</td>\n",
       "      <td>3</td>\n",
       "      <td>3</td>\n",
       "      <td>3</td>\n",
       "      <td>4</td>\n",
       "      <td>10</td>\n",
       "      <td>16</td>\n",
       "      <td>41</td>\n",
       "      <td>88</td>\n",
       "      <td>5</td>\n",
       "      <td>6</td>\n",
       "      <td>7</td>\n",
       "      <td>4648</td>\n",
       "      <td>22</td>\n",
       "      <td>1055</td>\n",
       "      <td>213</td>\n",
       "      <td>17</td>\n",
       "      <td>15</td>\n",
       "      <td>18</td>\n",
       "      <td>18</td>\n",
       "      <td>15</td>\n",
       "      <td>17</td>\n",
       "      <td>7</td>\n",
       "      <td>7</td>\n",
       "      <td>33</td>\n",
       "      <td>7</td>\n",
       "      <td>7</td>\n",
       "      <td>7</td>\n",
       "      <td>161</td>\n",
       "      <td>8</td>\n",
       "      <td>6</td>\n",
       "      <td>8</td>\n",
       "      <td>562</td>\n",
       "    </tr>\n",
       "    <tr>\n",
       "      <th>top</th>\n",
       "      <td>6-24-2017 5:21:25</td>\n",
       "      <td>T19S38b3</td>\n",
       "      <td>Same / Pareil</td>\n",
       "      <td>Maybe / Peut-être</td>\n",
       "      <td>Same / Pareil</td>\n",
       "      <td>Maybe / Peut-être</td>\n",
       "      <td>Stay the same / La même</td>\n",
       "      <td>Stay the same / La même</td>\n",
       "      <td>Stay the same / La même</td>\n",
       "      <td>Male / Homme</td>\n",
       "      <td>Married / Marié</td>\n",
       "      <td>30-34</td>\n",
       "      <td>Bachelor’s degree / Licence</td>\n",
       "      <td>Salaried employee / Salarié</td>\n",
       "      <td>I am not a student / Je ne suis pas un étudiant</td>\n",
       "      <td>Black / Noir</td>\n",
       "      <td>Cameroon</td>\n",
       "      <td>Spintex</td>\n",
       "      <td>Between 2-3 times</td>\n",
       "      <td>Entre 10 001 et 59 000</td>\n",
       "      <td>Friends</td>\n",
       "      <td>At least 1 month but less than 3 months</td>\n",
       "      <td>Never</td>\n",
       "      <td>Never</td>\n",
       "      <td>Most of the time</td>\n",
       "      <td>At least 7-8 out of 10 times</td>\n",
       "      <td>Personal or family expenses (Health, education)</td>\n",
       "      <td>No</td>\n",
       "      <td>No</td>\n",
       "      <td>Bank</td>\n",
       "      <td>3</td>\n",
       "      <td>3</td>\n",
       "      <td>4</td>\n",
       "      <td>5 - Definitely agree</td>\n",
       "      <td>Yes / Oui</td>\n",
       "      <td>No</td>\n",
       "      <td>10% - 20%</td>\n",
       "      <td>100000</td>\n",
       "    </tr>\n",
       "    <tr>\n",
       "      <th>freq</th>\n",
       "      <td>4</td>\n",
       "      <td>12</td>\n",
       "      <td>13195</td>\n",
       "      <td>16001</td>\n",
       "      <td>14793</td>\n",
       "      <td>15745</td>\n",
       "      <td>14096</td>\n",
       "      <td>14603</td>\n",
       "      <td>14323</td>\n",
       "      <td>17551</td>\n",
       "      <td>12654</td>\n",
       "      <td>9308</td>\n",
       "      <td>7889</td>\n",
       "      <td>10138</td>\n",
       "      <td>1509</td>\n",
       "      <td>2550</td>\n",
       "      <td>6218</td>\n",
       "      <td>331</td>\n",
       "      <td>5606</td>\n",
       "      <td>3685</td>\n",
       "      <td>7750</td>\n",
       "      <td>5163</td>\n",
       "      <td>5226</td>\n",
       "      <td>5229</td>\n",
       "      <td>4299</td>\n",
       "      <td>4575</td>\n",
       "      <td>5943</td>\n",
       "      <td>8947</td>\n",
       "      <td>10974</td>\n",
       "      <td>5302</td>\n",
       "      <td>5235</td>\n",
       "      <td>5942</td>\n",
       "      <td>4576</td>\n",
       "      <td>1744</td>\n",
       "      <td>4344</td>\n",
       "      <td>6630</td>\n",
       "      <td>543</td>\n",
       "      <td>149</td>\n",
       "    </tr>\n",
       "  </tbody>\n",
       "</table>\n",
       "</div>"
      ],
      "text/plain": [
       "                       0         1              2                  3              4                  5                        6                        7                        8             9                10     11                           12                           13                                               14            15        16        17                 18                      19       20                                       21     22     23                24                            25                                               26     27     28     29     30     31     32                    33         34     35         36      37\n",
       "count               29383     29383          27212              27212          27212              27212                    27212                    27212                    27212         28391            28391  28391                        28391                        28391                                             3298          3298     29383     18709              29383                   27906    29314                                    28349  29383  29383             29383                         29383                                            24656  23091  23091  23089  18748  18748  18748                  8675      16131  14389       2259    3349\n",
       "unique              26008     24800              3                  3              3                  3                        3                        3                        3             4               10     16                           41                           88                                                5             6         7      4648                 22                    1055      213                                       17     15     18                18                            15                                               17      7      7     33      7      7      7                   161          8      6          8     562\n",
       "top     6-24-2017 5:21:25  T19S38b3  Same / Pareil  Maybe / Peut-être  Same / Pareil  Maybe / Peut-être  Stay the same / La même  Stay the same / La même  Stay the same / La même  Male / Homme  Married / Marié  30-34  Bachelor’s degree / Licence  Salaried employee / Salarié  I am not a student / Je ne suis pas un étudiant  Black / Noir  Cameroon  Spintex   Between 2-3 times  Entre 10 001 et 59 000  Friends  At least 1 month but less than 3 months  Never  Never  Most of the time  At least 7-8 out of 10 times  Personal or family expenses (Health, education)     No     No   Bank      3      3      4  5 - Definitely agree  Yes / Oui     No  10% - 20%  100000\n",
       "freq                    4        12          13195              16001          14793              15745                    14096                    14603                    14323         17551            12654   9308                         7889                        10138                                             1509          2550      6218       331               5606                    3685     7750                                     5163   5226   5229              4299                          4575                                             5943   8947  10974   5302   5235   5942   4576                  1744       4344   6630        543     149"
      ]
     },
     "execution_count": 158,
     "metadata": {},
     "output_type": "execute_result"
    }
   ],
   "source": [
    "df.describe()"
   ]
  },
  {
   "cell_type": "code",
   "execution_count": 194,
   "metadata": {},
   "outputs": [
    {
     "data": {
      "text/plain": [
       "array(['Mixed race / Métis', 'Black / Noir', 'Chinese / Chinois',\n",
       "       'White / Blanc', 'Indian / Indien', 'Other Asian', nan],\n",
       "      dtype=object)"
      ]
     },
     "execution_count": 194,
     "metadata": {},
     "output_type": "execute_result"
    }
   ],
   "source": [
    "df[15].unique()"
   ]
  },
  {
   "cell_type": "markdown",
   "metadata": {},
   "source": [
    "## Verify Quality of the Data that are Included into  the Formular\n",
    "\n",
    "### Risk Columns\n",
    "\n",
    "#### Recipients\n",
    "\n",
    "\n",
    "Raw | Description | Categories | Weights \n",
    "--------- | -------------| ------- | ------  \n",
    "Family | Family | 1 | -0.05\n",
    "Friends | Friends | 2 | 0.1 \n",
    "Business colleagues | Business Colleagues | 3 | 0.1 \n",
    "None of the above | Other | 4 | -0.05 \n"
   ]
  },
  {
   "cell_type": "code",
   "execution_count": 165,
   "metadata": {
    "scrolled": true
   },
   "outputs": [
    {
     "data": {
      "text/plain": [
       "(214,\n",
       " array(['Business colleagues', 'Friends', 'Family', \"I HAVEN'T LEND MONEY\",\n",
       "        'None', 'no one', 'none', 'no', 'all', 'NONE', 'mtn qwick loan',\n",
       "        'mobile loan', 'and other friends', 'a stranger', 'NO ONE',\n",
       "        'friends and family', 'Friends and family', 'family and friends',\n",
       "        'family and collegues', 'none ', 'workmates', 'Fellow employee',\n",
       "        'I give money without expecting to be returned.', 'Work Collegues',\n",
       "        'No one really.', 'All of the above', nan, 'Nobody', \"I haven't \",\n",
       "        'workers', 'Bank', 'NOBODY', 'None ', 'Cooperative', 'No', 'Nope',\n",
       "        'No one.', 'Not available', 'non-disclosure.', 'nobody', 'nil',\n",
       "        'i dont lend money', 'i did not lend any money',\n",
       "        'Never lent Money', \"i didn't lend money to someone\", 'never',\n",
       "        'Family and friends ', 'bothfamily and friends',\n",
       "        'Friends, Family, and business collegues', 'Family and friends',\n",
       "        'FAMILY AND FRIENDS', 'friends, business colleagues and family',\n",
       "        'both family and friends', 'Neighbors ', 'Brother', 'Sister',\n",
       "        'society group', 'No One', 'my girl friend.', 'not available',\n",
       "        'No one', 'work mates', 'Friends and Family', 'nOBODY',\n",
       "        'Family and Friends', 'Family & Friends', 'Family And Friebds',\n",
       "        'All above', 'All', 'none of the ABOVE', 'did not lend anyone',\n",
       "        'no body ', 'no lending', 'workmate', 'no body',\n",
       "        'none of the above', 'nobodi', 'CO-WORKER', 'Did not lend',\n",
       "        'Anyone who requires financial help', 'Not at all', 'Never',\n",
       "        'Neighbour ', 'did not lend', 'noone', 'ALICE', 'work mate',\n",
       "        'No body', 'No one ', 'no 1', 'I have not lend money',\n",
       "        'I did not lend money', 'havent lend money', 'noi body',\n",
       "        'I don’t loan out money ', 'not', 'not yet', 'i dont',\n",
       "        'i dont lend', 'non', 'nONE', 'friends and colleagues',\n",
       "        'friends and collegues', '0', 'and friends', 'church member',\n",
       "        'private', 'confidential', 'Not to be disclosed',\n",
       "        'Never lend to anyone', 'Neither', 'Frinds and Family',\n",
       "        'Faamily & Friends', 'Fam & Frnds', 'Friends & Family',\n",
       "        'Friends, Family', 'Nil', 'Micro finance', 'None of them ',\n",
       "        'Lending Club', 'Loans are a bad idea ', 'E no need ',\n",
       "        'i have not lent', 'church members', 'Spouse', 'na',\n",
       "        'i dont lent money', 'Business Colleagues, Friends and Family',\n",
       "        'Mostly family, friends', 'Campaigners & Business associates',\n",
       "        \"I don't lend money\", 'I have never lent any money', 'Both',\n",
       "        'neighbor', ' None', '-', 'Na', 'n/A', 'o', 'employees',\n",
       "        'an employee', 'Nobody ', 'I did not lend money ', 'Nobodi ',\n",
       "        'I lend money to noone ', 'family  and friends', 'PARTNERS',\n",
       "        'I have not lent money over the past 3 months', 'Non', 'student',\n",
       "        'Husband', 'All concerned', 'Not available.', 'no one!', 'others',\n",
       "        'ALL ABOVE', 'FRIENDS AND FAMILY', 'BANK', 'no-one', 'kijichi',\n",
       "        'SACCOS', 'Family /\\xa0La famille', 'Friends /\\xa0Les amis',\n",
       "        'Family /\\xa0La famille, Friends /\\xa0Les amis',\n",
       "        'Business colleagues / Collegues de travail',\n",
       "        'Family /\\xa0La famille, Friends /\\xa0Les amis, Business colleagues / Collegues de travail',\n",
       "        'Friends /\\xa0Les amis, Business colleagues / Collegues de travail',\n",
       "        'Family /\\xa0La famille, Business colleagues / Collegues de travail',\n",
       "        'Family /\\xa0La famille, Friends /\\xa0Les amis, workmates',\n",
       "        'school fees',\n",
       "        'Family /\\xa0La famille, Friends /\\xa0Les amis, Business colleagues / Collegues de travail, MSHWARI',\n",
       "        'no ', ' non', ' none', \"didn't lend\", 'no one actually',\n",
       "        'no one ', 'Family /\\xa0La famille, none', ' no one', ' no body',\n",
       "        ' no ', ' nobody', '-----', 'never lend money', ' c', 'zero',\n",
       "        'school mates', 'dash', 'norbodi', 'no ne', '---', 'othee',\n",
       "        'anybogy', 'noo ne', 'no one borrowed ', 'i ddnt borrow money',\n",
       "        'no other', \"i don't lend money\", 'noboday', '?', 'Les amis',\n",
       "        'La famille', 'Collegues de travail', 'La famille, Les amis',\n",
       "        'Les amis, Collegues de travail',\n",
       "        'La famille, Collegues de travail',\n",
       "        'La famille, Les amis, Collegues de travail', 'personne', 'aucun',\n",
       "        'jamais', 'banque',\n",
       "        'Family /\\xa0La famille, Friends /\\xa0Les amis, Business colleagues / Collegues de travail, Etat',\n",
       "        'ma femme', \"J'ai pas emprunté\"], dtype=object))"
      ]
     },
     "execution_count": 165,
     "metadata": {},
     "output_type": "execute_result"
    }
   ],
   "source": [
    "u=df[20].unique() #20. Who did you lend money to in the past 3 months?\n",
    "len(u),u"
   ]
  },
  {
   "cell_type": "markdown",
   "metadata": {},
   "source": [
    "#### Interest\n",
    "\n",
    "\n",
    "Raw | Description | Categories | Weights \n",
    "--------- | -------------| ------- | ------  \n",
    "Always /Toujours | Always | 1 | -0.1\n",
    "Most of the time/ La moitié du temps | Most of the Time | 2 | -0.05 \n",
    "About half the time/ La moitié du temps | About half the time | 3 | 0.05 \n",
    "Occasionally/ Souvent | Occasionally | 4 | 0.08 \n",
    "Never / Jamais | Never | 5 | 0.12 "
   ]
  },
  {
   "cell_type": "code",
   "execution_count": 164,
   "metadata": {},
   "outputs": [
    {
     "data": {
      "text/plain": [
       "(15, array(['About half the time', 'Occasionally', 'Most of the time', 'Never',\n",
       "        'Always', 'Never / Jamais', 'Occasionally / Souvent',\n",
       "        'Always /\\xa0Toujours',\n",
       "        'About half the time /\\xa0La moitié du temps',\n",
       "        'Most of the time /\\xa0La majorité du temps', 'Jamais',\n",
       "        'La moitié du temps', 'Souvent', 'La majorité du temps',\n",
       "        'Toujours'], dtype=object))"
      ]
     },
     "execution_count": 164,
     "metadata": {},
     "output_type": "execute_result"
    }
   ],
   "source": [
    "u = df[22].unique() # 22:\"Do you include either interest or a lending fee when you lend?\"\n",
    "len(u), u"
   ]
  },
  {
   "cell_type": "markdown",
   "metadata": {},
   "source": [
    "#### Collateral\n",
    "\n",
    "\n",
    "Raw | Description | Categories | Weights \n",
    "--------- | -------------| ------- | ------  \n",
    "Always /Toujours | Always | 1 | -0.05\n",
    "Most of the time/ La moitié du temps | Most of the Time | 2 | -0.03 \n",
    "About half the time/ La moitié du temps | About half the time | 3 | 0.03 \n",
    "Occasionally/ Souvent | Occasionally | 4 | 0.04 \n",
    "Never / Jamais | Never | 5 | 0.06 "
   ]
  },
  {
   "cell_type": "code",
   "execution_count": 163,
   "metadata": {},
   "outputs": [
    {
     "data": {
      "text/plain": [
       "(18, array(['Most of the time', 'Never', 'About half the time', 'Occasionally',\n",
       "        'Always', 'Never / Jamais', 'Occasionally / Souvent',\n",
       "        'Always /\\xa0Toujours',\n",
       "        'Most of the time /\\xa0La majorité du temps',\n",
       "        'About half the time /\\xa0La moitié du temps',\n",
       "        'About half the time / La moitié du temps', 'Always / Toujours',\n",
       "        'Most of the time / La majorité du temps', 'Jamais',\n",
       "        'La majorité du temps', 'Souvent', 'La moitié du temps',\n",
       "        'Toujours'], dtype=object))"
      ]
     },
     "execution_count": 163,
     "metadata": {},
     "output_type": "execute_result"
    }
   ],
   "source": [
    "u = df[23].unique() #23:\"Do you request guarantees when you lend?\"\n",
    "len(u),u   "
   ]
  },
  {
   "cell_type": "markdown",
   "metadata": {},
   "source": [
    "### Liquidity\n",
    "\n",
    "#### Frequency\n",
    "\n",
    "\n",
    "Raw | Description | Categories | Weights \n",
    "--------- | -------------| ------- | ------  \n",
    "More than 4 times / Plus de 4 foiss | More than 4 times | 1 | 0.1\n",
    "Between 2-3 times / Entre 2 et 3 fois | 2-3 times | 2 | 0.07 \n",
    "Once / Une fois | Once | 3 | -0.02 \n",
    "Never / Jamais | Never | 4 | -0.05 \n"
   ]
  },
  {
   "cell_type": "code",
   "execution_count": 166,
   "metadata": {},
   "outputs": [
    {
     "data": {
      "text/plain": [
       "(22, array(['Between 2-3 times', 'Once', 'More than 4 times', 'Never',\n",
       "        'Once / Une fois', 'Between 2-3 times /\\xa0Entre 2 et 3 fois',\n",
       "        'More than 4 times / Plus de 4 fois', 'Never / Jamais',\n",
       "        'Plus de 4 fois', 'Entre 2 et 3 fois', 'Aucune', 'Une fois',\n",
       "        'Jamais', 'Une fois, Entre 2 et 3 fois',\n",
       "        'Entre 2 et 3 fois, Plus de 4 fois', 'Une fois, Plus de 4 fois',\n",
       "        'Jamais, Entre 2 et 3 fois', 'Jamais, Une fois, Entre 2 et 3 fois',\n",
       "        'Une fois, Entre 2 et 3 fois, Plus de 4 fois',\n",
       "        'Jamais, Plus de 4 fois',\n",
       "        'Jamais, Une fois, Entre 2 et 3 fois, Plus de 4 fois',\n",
       "        'Jamais, Une fois'], dtype=object))"
      ]
     },
     "execution_count": 166,
     "metadata": {},
     "output_type": "execute_result"
    }
   ],
   "source": [
    "u=df[18].unique() #18:\"Over the past 3 months, how many times have you lent someone money?\"\n",
    "len(u),u"
   ]
  },
  {
   "cell_type": "markdown",
   "metadata": {},
   "source": [
    "#### Duration\n",
    "\n",
    "\n",
    "Raw | Description | Categories | Weights \n",
    "--------- | -------------| ------- | ------  \n",
    "Less than a month / Moins d'un mois | Less tan a month | 1 | -0.01 \n",
    "At least 1 month but than 3 months / 1 - 2 mois | At least 1 month but less than 3 months | 2 | 0.02 \n",
    "At least 3 months but less than 6 months / 3 - 5 mois | At least 3 months but less than 6 months  | 3 | 0.03 \n",
    "At least 6 months but less than 12 months / 6 - 11 mois | At least 6 months but less than 12 months | 4 | 0.04 \n",
    "One year or more / Plus d'un an | One year or more | 5 | 0.05 \n",
    "??? | ??? | 6 | -0.02 "
   ]
  },
  {
   "cell_type": "code",
   "execution_count": 167,
   "metadata": {},
   "outputs": [
    {
     "data": {
      "text/plain": [
       "(18, array(['At least 3 months but less than 6 months',\n",
       "        'At least 1 month but less than 3 months', 'Less than a month',\n",
       "        'One year or more', 'At least 6 months but less than 12 months',\n",
       "        \"Never - I don't expect to get repaid\",\n",
       "        'At least 1 month but than 3 months',\n",
       "        'At least 3 months but less than 6 months / 3 - 5 mois',\n",
       "        \"Less than a month / Moins d'un mois\",\n",
       "        'At least 1 month but than 3 months /\\xa01 - 2 mois',\n",
       "        'At least 6 months but less than 12 months / 6 - 11 mois',\n",
       "        \"One year or more / Plus d'un an\", \"Moins d'un mois\", '1 - 2 mois',\n",
       "        '3 - 5 mois', '6 - 11 mois', \"Plus d'un an\", nan], dtype=object))"
      ]
     },
     "execution_count": 167,
     "metadata": {},
     "output_type": "execute_result"
    }
   ],
   "source": [
    "u=df[21].unique() #21:\"When you lend money, when do you usually expect to get it repaid?\"\n",
    "len(u),u"
   ]
  },
  {
   "cell_type": "markdown",
   "metadata": {},
   "source": [
    "#### Amount\n",
    "\n",
    "\n",
    "Raw | Description | Categories | Weights \n",
    "--------- | -------------| ------- | ------  \n",
    "??? | Micro | 1 | -0.05 \n",
    "??? | Small | 2 | 0.03 \n",
    "??? | Medium | 3 | 0.05 \n",
    "??? | Large | 4 | 0.07 \n"
   ]
  },
  {
   "cell_type": "code",
   "execution_count": 168,
   "metadata": {},
   "outputs": [
    {
     "data": {
      "text/plain": [
       "(1056, array(['At least 91 but less than 444', 'Less than 90',\n",
       "        'At least 445 but less than 2200', ..., '150000frs', '0frs',\n",
       "        '5000frs'], dtype=object))"
      ]
     },
     "execution_count": 168,
     "metadata": {},
     "output_type": "execute_result"
    }
   ],
   "source": [
    "u=df[19].unique() #19:\"On average how much do you lend in general?\"\n",
    "len(u),u"
   ]
  },
  {
   "cell_type": "markdown",
   "metadata": {},
   "source": [
    "### Usage\n",
    "\n",
    "Raw | Description | Categories | Weights \n",
    "--------- | -------------| ------- | ------  \n",
    "To pay for one-time or sudden expenses (Wedding, medical emergencies, etc.) | Urgent/Problem | 1 | -0.1 \n",
    "??? | ??? | 2 | 0.05 \n",
    "Investment (commerce, merchandise, etc.) | Investment | 3 | 0.15 \n",
    "??? | ??? | 4 | -0.05 \n",
    "I don't know | Do not know | 5 | 0.05 "
   ]
  },
  {
   "cell_type": "code",
   "execution_count": 169,
   "metadata": {},
   "outputs": [
    {
     "data": {
      "text/plain": [
       "(18,\n",
       " array(['To invest or cover business expenses (Merchandise, salaries, etc..)',\n",
       "        'To pay for one-time or sudden expenses (Wedding, medical emergencies, etc.)',\n",
       "        'To cover regular expenses (Rent, clothing, home appliances, etc.)',\n",
       "        'To pay off other debts', \"I don't know\",\n",
       "        'Investment (commerce, merchandise, etc.)',\n",
       "        'Personal or family expenses (Health, education)', nan,\n",
       "        'Pour payer des dépenses ponctuelles ou soudaines (mariage, urgences médicales, etc.)',\n",
       "        'Pour couvrir les dépenses régulières (loyer, vêtements, appareils ménagers, etc.)',\n",
       "        \"Payer d'autres dettes\",\n",
       "        'Pour investir ou couvrir les dépenses de votre entreprise (marchandises, salaires, etc.)',\n",
       "        'Je ne sais pas', 'Régler les problèmes subits',\n",
       "        'Investir dans un projet', \"I don't know / Je ne sais pas\",\n",
       "        'Personal or family expenses (Health, education) /\\xa0Régler les problèmes subits',\n",
       "        'Investment (commerce, merchandise, etc.) / Investir dans un projet'],\n",
       "       dtype=object))"
      ]
     },
     "execution_count": 169,
     "metadata": {},
     "output_type": "execute_result"
    }
   ],
   "source": [
    "u=df[26].unique() #26:\"What's the most common use of the money you lend?\"\n",
    "len(u),u"
   ]
  },
  {
   "cell_type": "markdown",
   "metadata": {},
   "source": [
    "### Default\n",
    "\n",
    "Raw | Description | Categories | Weights \n",
    "--------- | -------------| ------- | ------  \n",
    "Always /Toujours | Always | 1 | 0.35\n",
    "Most of the time/ La moitié du temps | Most of the Time | 2 | 0.25 \n",
    "About half the time/ La moitié du temps | About half the time | 3 | 0.15 \n",
    "Occasionally/ Souvent | Occasionally | 4 | -0.1 \n",
    "Never / Jamais | Never | 5 | -0.3 "
   ]
  },
  {
   "cell_type": "code",
   "execution_count": 174,
   "metadata": {},
   "outputs": [
    {
     "data": {
      "text/plain": [
       "(18, array(['About half the time', 'Most of the time', 'Occasionally', 'Never',\n",
       "        'Always', 'Most of the time /\\xa0La majorité du temps',\n",
       "        'Always /\\xa0Toujours',\n",
       "        'About half the time /\\xa0La moitié du temps',\n",
       "        'Occasionally / Souvent', 'Never / Jamais',\n",
       "        'Most of the time / La majorité du temps', 'Always / Toujours',\n",
       "        'About half the time / La moitié du temps', 'La moitié du temps',\n",
       "        'Toujours', 'La majorité du temps', 'Souvent', 'Jamais'],\n",
       "       dtype=object))"
      ]
     },
     "execution_count": 174,
     "metadata": {},
     "output_type": "execute_result"
    }
   ],
   "source": [
    "u=df[24].unique() # 24:\"Do you receive your money back in time?\"\n",
    "len(u),u"
   ]
  }
 ],
 "metadata": {
  "kernelspec": {
   "display_name": "Python 3",
   "language": "python",
   "name": "python3"
  },
  "language_info": {
   "codemirror_mode": {
    "name": "ipython",
    "version": 3
   },
   "file_extension": ".py",
   "mimetype": "text/x-python",
   "name": "python",
   "nbconvert_exporter": "python",
   "pygments_lexer": "ipython3",
   "version": "3.6.7"
  }
 },
 "nbformat": 4,
 "nbformat_minor": 2
}
